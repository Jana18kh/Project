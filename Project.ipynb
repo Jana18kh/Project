{
  "cells": [
    {
      "cell_type": "markdown",
      "metadata": {
        "trusted": true
      },
      "source": [
        "## The goal of collecting this dataset:\n",
        "\n",
        "{
  "cells": [
    {
      "cell_type": "markdown",
      "metadata": {
        "trusted": true
      },
      "source": [
        "## The goal of collecting this dataset:\n",
        "\n",
        "The goal of collecting the “Student Stress Factors” dataset is to conduct a comprehensive analysis of the various factors that contribute to student stress. This dataset aims to identify patterns, relationships, and key drivers of stress among students by examining variables such as academic workload, personal life, social pressures, and mental health. The insights drawn from this data can help in developing strategies to reduce stress, improve student well-being, and enhance academic performance.",
"\n",
        "## The source of the dataset:\n",
        "\n",
        "## Read dataset:\n"
      ]
    },
    {
      "cell_type": "code",
      "execution_count": 2,
      "metadata": {},
      "outputs": [],
      "source": [
        "import pandas as pd\n",
        "df = pd.read_csv('Dataset/StressLevelDataset(in).csv')"
      ]
    },
    {
      "cell_type": "markdown",
      "metadata": {},
      "source": [
        "## General information about the dataset:\n",
        " Number of attributes: 21\n",
        "\n",
        " Number of objects: 1100\n",
        "\n",
        " Attribute types: All columns are integer types (int64)\n",
        " \n",
        " Class label: stress_level"
      ]
    },
    {
      "cell_type": "code",
      "execution_count": 3,
      "metadata": {},
      "outputs": [
        {
          "name": "stdout",
          "output_type": "stream",
          "text": [
            "Number of attributes: 21\n",
            "\n",
            "\n",
            "Attributes and their types:\n",
            "                  Attribute Name Data Type\n",
            "0                  anxiety_level     int64\n",
            "1                    self_esteem     int64\n",
            "2          mental_health_history     int64\n",
            "3                     depression     int64\n",
            "4                       headache     int64\n",
            "5                 blood_pressure     int64\n",
            "6                  sleep_quality     int64\n",
            "7              breathing_problem     int64\n",
            "8                    noise_level     int64\n",
            "9              living_conditions     int64\n",
            "10                        safety     int64\n",
            "11                   basic_needs     int64\n",
            "12          academic_performance     int64\n",
            "13                    study_load     int64\n",
            "14  teacher_student_relationship     int64\n",
            "15        future_career_concerns     int64\n",
            "16                social_support     int64\n",
            "17                 peer_pressure     int64\n",
            "18    extracurricular_activities     int64\n",
            "19                      bullying     int64\n",
            "20                  stress_level     int64\n",
            "\n",
            "\n",
            "Number of objects: 1100\n"
          ]
        }
      ],
      "source": [
        "num_objects= len(df)\n",
        "attributes_info = pd.DataFrame({\n",
        "    'Attribute Name': df.columns,\n",
        "    'Data Type': df.dtypes.values\n",
        "})\n",
        "\n",
        "print(f\"Number of attributes: {len(df.columns)}\")\n",
        "print('\\n')\n",
        "print(\"Attributes and their types:\")\n",
        "print(attributes_info)\n",
        "print('\\n')\n",
        "print(f\"Number of objects: {num_objects}\")"
      ]
    }
  ],
  "metadata": {
    "kernelspec": {
      "display_name": "Python 3 (ipykernel)",
      "language": "python",
      "name": "python3"
    },
    "language_info": {
      "codemirror_mode": {
        "name": "ipython",
        "version": 3
      },
      "file_extension": ".py",
      "mimetype": "text/x-python",
      "name": "python",
      "nbconvert_exporter": "python",
      "pygments_lexer": "ipython3",
      "version": "3.12.3"
    }
  },
  "nbformat": 4,
  "nbformat_minor": 4
}
"\n",
        "## The source of the dataset:\n",
        "https://www.kaggle.com/datasets/rxnach/student-stress-factors-a-comprehensive-analysis\n",
        "\n",
        "## Read dataset:\n"
      ]
    },
    {
      "cell_type": "code",
      "execution_count": 2,
      "metadata": {},
      "outputs": [],
      "source": [
        "import pandas as pd\n",
        "df = pd.read_csv('Dataset/StressLevelDataset(in).csv')"
      ]
    },
    {
      "cell_type": "markdown",
      "metadata": {},
      "source": [
        "## General information about the dataset:\n",
        " Number of attributes: 21\n",
        "\n",
        " Number of objects: 1100\n",
        "\n",
        " Attribute types: All columns are integer types (int64)\n",
        " \n",
        " Class label: stress_level"
      ]
    },
    {
      "cell_type": "code",
      "execution_count": 3,
      "metadata": {},
      "outputs": [
        {
          "name": "stdout",
          "output_type": "stream",
          "text": [
            "Number of attributes: 21\n",
            "\n",
            "\n",
            "Attributes and their types:\n",
            "                  Attribute Name Data Type\n",
            "0                  anxiety_level     int64\n",
            "1                    self_esteem     int64\n",
            "2          mental_health_history     int64\n",
            "3                     depression     int64\n",
            "4                       headache     int64\n",
            "5                 blood_pressure     int64\n",
            "6                  sleep_quality     int64\n",
            "7              breathing_problem     int64\n",
            "8                    noise_level     int64\n",
            "9              living_conditions     int64\n",
            "10                        safety     int64\n",
            "11                   basic_needs     int64\n",
            "12          academic_performance     int64\n",
            "13                    study_load     int64\n",
            "14  teacher_student_relationship     int64\n",
            "15        future_career_concerns     int64\n",
            "16                social_support     int64\n",
            "17                 peer_pressure     int64\n",
            "18    extracurricular_activities     int64\n",
            "19                      bullying     int64\n",
            "20                  stress_level     int64\n",
            "\n",
            "\n",
            "Number of objects: 1100\n"
          ]
        }
      ],
      "source": [
        "num_objects= len(df)\n",
        "attributes_info = pd.DataFrame({\n",
        "    'Attribute Name': df.columns,\n",
        "    'Data Type': df.dtypes.values\n",
        "})\n",
        "\n",
        "print(f\"Number of attributes: {len(df.columns)}\")\n",
        "print('\\n')\n",
        "print(\"Attributes and their types:\")\n",
        "print(attributes_info)\n",
        "print('\\n')\n",
        "print(f\"Number of objects: {num_objects}\")"
      ]
    }
  ],
  "metadata": {
    "kernelspec": {
      "display_name": "Python 3 (ipykernel)",
      "language": "python",
      "name": "python3"
    },
    "language_info": {
      "codemirror_mode": {
        "name": "ipython",
        "version": 3
      },
      "file_extension": ".py",
      "mimetype": "text/x-python",
      "name": "python",
      "nbconvert_exporter": "python",
      "pygments_lexer": "ipython3",
      "version": "3.12.3"
    }
  },
  "nbformat": 4,
  "nbformat_minor": 4
}
