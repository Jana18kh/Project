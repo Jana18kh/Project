{
  "cells": [
    {
      "cell_type": "markdown",
      "metadata": {
        "trusted": true
      },
      "source": [
        "## The goal of collecting this dataset:\n",
        "The goal of collecting the Student Stress Factors dataset is to conduct a comprehensive analysis of the factors contributing to student stress, with a focus on classifying students into different stress levels and clustering them based on common stress-related characteristics. By examining variables such as academic workload, personal life, social pressures, and mental health, this dataset aims to identify patterns and relationships that can classify students’ stress levels. Additionally, clustering techniques will be used to group students with similar stress profiles, which can provide insights for developing targeted strategies to reduce stress, improve well-being, and enhance academic performance."
      ]
    },
    {
      "cell_type": "markdown",
      "metadata": {},
      "source": [
        "## The source of the dataset:\n",
        "https://www.kaggle.com/datasets/rxnach/student-stress-factors-a-comprehensive-analysis"
      ]
    },
    {
      "cell_type": "code",
      "execution_count": 75,
      "metadata": {},
      "outputs": [],
      "source": [
        "import pandas as pd\n",
        "df = pd.read_csv('Dataset/StressLevelDataset(in).csv')"
      ]
    },
    {
      "cell_type": "markdown",
      "metadata": {},
      "source": [
        "## General information about the dataset:\n",
        "Number of attributes: 21\n",
        "Number of objects: 1100\n",
        "Attribute types: All columns are integer types (int64)\n",
        "## General information about the dataset:\n",
        "Number of attributes: 21\n",
        "\n",
        "Number of objects: 1100\n",
        "\n",
        "Attribute types: All columns are integer types (int64)\n",
        "\n",
        "Class label: stress_level"
      ]
    },
    {
      "cell_type": "code",
      "execution_count": 76,
      "metadata": {},
      "outputs": [
        {
          "name": "stdout",
          "output_type": "stream",
          "text": [
            "Number of attributes: 21\n",
            "\n",
            "Attributes and their types:\n",
            "                  Attribute Name Data Type\n",
            "0                  anxiety_level     int64\n",
            "1                    self_esteem     int64\n",
            "2          mental_health_history     int64\n",
            "3                     depression     int64\n",
            "4                       headache     int64\n",
            "5                 blood_pressure     int64\n",
            "6                  sleep_quality     int64\n",
            "7              breathing_problem     int64\n",
            "8                    noise_level     int64\n",
            "9              living_conditions     int64\n",
            "10                        safety     int64\n",
            "11                   basic_needs     int64\n",
            "12          academic_performance     int64\n",
            "13                    study_load     int64\n",
            "14  teacher_student_relationship     int64\n",
            "15        future_career_concerns     int64\n",
            "16                social_support     int64\n",
            "17                 peer_pressure     int64\n",
            "18    extracurricular_activities     int64\n",
            "19                      bullying     int64\n",
            "20                  stress_level     int64\n",
            "\n",
            "Number of objects:  1100\n"
          ]
        }
      ],
      "source": [
        "import pandas as pd\n",
        "df = pd.read_csv('Dataset/StressLevelDataset(in).csv')\n",
        "num_objects = len(df)\n",
        "attributes_info = pd.DataFrame({\n",
        "    'Attribute Name': df.columns,\n",
        "    'Data Type': df.dtypes.values\n",
        "})\n",
        "print(\"Number of attributes:\" ,len(df.columns))\n",
        "print()\n",
        "print(\"Attributes and their types:\")\n",
        "print(attributes_info)\n",
        "print()\n",
        "print(\"Number of objects: \",num_objects)"
      ]
    },
    {
      "cell_type": "markdown",
      "metadata": {},
      "source": [
        "#### Check the Current Distribution of the Class Label:\n"
      ]
    },
    {
      "cell_type": "code",
      "execution_count": 77,
      "metadata": {},
      "outputs": [
        {
          "name": "stdout",
          "output_type": "stream",
          "text": [
            "Class label distribution in the full dataset:\n",
            "stress_level\n",
            "0    33.909091\n",
            "2    33.545455\n",
            "1    32.545455\n",
            "Name: proportion, dtype: float64\n"
          ]
        }
      ],
      "source": [
        "# Check the current distribution of the class label\n",
        "\n",
        "# Use value_counts to get the count of each unique value in the 'stress_level' column\n",
        "# Set normalize=True to get the relative frequencies as percentages, multiplied by 100\n",
        "class_distribution = df['stress_level'].value_counts(normalize=True) * 100\n",
        "print(\"Class label distribution in the full dataset:\") # Print a message to describe the output\n",
        "print(class_distribution) # Display the distribution of the class labels in percentages"
      ]
    },
    {
      "cell_type": "markdown",
      "metadata": {},
      "source": [
        "### Graphs:\n"
      ]
    },
    {
      "cell_type": "markdown",
      "metadata": {},
      "source": [
        "#### Bar char:"
      ]
    },
    {
      "cell_type": "code",
      "execution_count": 78,
      "metadata": {},
      "outputs": [
        {
          "name": "stdout",
          "output_type": "stream",
          "text": [
            "stress_level\n",
            "0    33.909091\n",
            "2    33.545455\n",
            "1    32.545455\n",
            "Name: proportion, dtype: float64\n"
          ]
        },
        {
          "data": {
            "image/png": "[encoded data removed]",
            "text/plain": [
              "<Figure size 600x400 with 1 Axes>"
            ]
          },
          "metadata": {},
          "output_type": "display_data"
        }
      ],
      "source": [
        "import matplotlib.pyplot as plt\n",
        "import seaborn as sns\n",
        "\n",
        "# Display the class distribution (counts of each class label)\n",
        "print(class_distribution)\n",
        "plt.figure(figsize=(6, 4)) # Set up the figure size for the plot\n",
        "sns.countplot(x='stress_level', data=df) # Use Seaborn's countplot to plot the distribution of the 'stress_level' column\n",
        "plt.title('Stress Level distribution') # Set the title of the plot\n",
        "plt.show() # Display the plot"
      ]
    },
    {
      "cell_type": "markdown",
      "metadata": {},
      "source": [
        "This bar chart shows that the dataset contains equal amounts of data for each stress level, which helps avoid issues related to class imbalance that can skew analysis or model predictions. In this dataset, stress levels are represented numerically, with 0 indicating low stress, 1 representing medium stress, and 2 indicating high stress. Balanced data like this ensures that predictive models won't favor one category over another, resulting in more reliable and fair predictions across all stress levels. Without this balance, a model might incorrectly favor more common categories, such as \"low stress,\" leading to biased outcomes."
      ]
    },
    {
      "cell_type": "markdown",
      "metadata": {},
      "source": [
        "#### Pie chart:"
      ]
    },
    {
      "cell_type": "code",
      "execution_count": 79,
      "metadata": {},
      "outputs": [
        {
          "data": {
            "image/png": "[encoded data removed]",
            "text/plain": [
              "<Figure size 600x600 with 1 Axes>"
            ]
          },
          "metadata": {},
          "output_type": "display_data"
        }
      ],
      "source": [
        "data2 = df['social_support'].value_counts(normalize=True) * 100 # Calculate the percentage distribution of the 'social_support' column\n",
        "data2.plot.pie(autopct='%1.1f%%', figsize=(6, 6), startangle=90) # Plot the percentage distribution as a pie chart\n",
        "plt.title('Percentage Distribution of Social Support') # Set the title of the pie chart\n",
        "plt.ylabel('') # Remove the y-axis label for a cleaner pie chart presentation\n",
        "plt.show() # Display the pie chart"
      ]
    },
    {
      "cell_type": "markdown",
      "metadata": {},
      "source": [
        "The pie chart reveals that the majority of people (over 70%) have either low or high levels of social support, with the largest percentage (41.6%) feeling well-supported. However, around 8% of the population experiences no support, which could be an area of concern. Understanding these different levels of support helps in targeting social or health interventions to the right groups."
      ]
    },
    {
      "cell_type": "markdown",
      "metadata": {},
      "source": [
        "#### Box plot:"
      ]
    },
    {
      "cell_type": "code",
      "execution_count": 80,
      "metadata": {},
      "outputs": [
        {
          "data": {
            "image/png": "[encoded data removed]",
            "text/plain": [
              "<Figure size 640x480 with 1 Axes>"
            ]
          },
          "metadata": {},
          "output_type": "display_data"
        }
      ],
      "source": [
        "# Create a box plot for the 'bullying' column in the dataset\n",
        "sns.boxplot(data=df['bullying'])\n",
        "plt.title('Bullying Distribution') # Set the title for the plot\n",
        "plt.show() # Display the plot"
      ]
    },
    {
      "cell_type": "markdown",
      "metadata": {},
      "source": [
        "The box plot displayed shows the distribution of the \"bullying\" variable in the dataset. The box represents the interquartile range (IQR), with the lower and upper edges corresponding to the 25th and 75th percentiles. The median bullying level is approximately 3, as indicated by the horizontal line within the box. The whiskers extend to the minimum and maximum values in the dataset, showing that most data points fall between 1 and 5, without any significant outliers. This distribution gives a clear view of how bullying incidents are spread across the population."
      ]
    },
    {
      "cell_type": "markdown",
      "metadata": {},
      "source": [
        "### Missing values:"
      ]
    },
    {
      "cell_type": "code",
      "execution_count": 81,
      "metadata": {},
      "outputs": [
        {
          "name": "stdout",
          "output_type": "stream",
          "text": [
            "Missing values per column:\n",
            "anxiety_level                   0\n",
            "self_esteem                     0\n",
            "mental_health_history           0\n",
            "depression                      0\n",
            "headache                        0\n",
            "blood_pressure                  0\n",
            "sleep_quality                   0\n",
            "breathing_problem               0\n",
            "noise_level                     0\n",
            "living_conditions               0\n",
            "safety                          0\n",
            "basic_needs                     0\n",
            "academic_performance            0\n",
            "study_load                      0\n",
            "teacher_student_relationship    0\n",
            "future_career_concerns          0\n",
            "social_support                  0\n",
            "peer_pressure                   0\n",
            "extracurricular_activities      0\n",
            "bullying                        0\n",
            "stress_level                    0\n",
            "dtype: int64\n"
          ]
        }
      ],
      "source": [
        "# Check for missing values\n",
        "missing_values = df.isnull().sum() # This creates a Series containing the count of missing values per column\n",
        "print(\"Missing values per column:\") # Print a message indicating that missing values will be displayed\n",
        "print(missing_values) # Print missing values per column"
      ]
    },
    {
      "cell_type": "markdown",
      "metadata": {},
      "source": [
        "### Statistical summaries:"
      ]
    },
    {
      "cell_type": "code",
      "execution_count": 82,
      "metadata": {},
      "outputs": [
        {
          "name": "stdout",
          "output_type": "stream",
          "text": [
            "                                   mean       std   variance\n",
            "anxiety_level                 11.063636  6.117558  37.424518\n",
            "self_esteem                   17.777273  8.944599  80.005852\n",
            "mental_health_history          0.492727  0.500175   0.250175\n",
            "depression                    12.555455  7.727008  59.706658\n",
            "headache                       2.508182  1.409356   1.986284\n",
            "blood_pressure                 2.181818  0.833575   0.694847\n",
            "sleep_quality                  2.660000  1.548383   2.397489\n",
            "breathing_problem              2.753636  1.400713   1.961998\n",
            "noise_level                    2.649091  1.328127   1.763921\n",
            "living_conditions              2.518182  1.119208   1.252626\n",
            "safety                         2.737273  1.406171   1.977317\n",
            "basic_needs                    2.772727  1.433761   2.055670\n",
            "academic_performance           2.772727  1.414594   2.001075\n",
            "study_load                     2.621818  1.315781   1.731280\n",
            "teacher_student_relationship   2.648182  1.384579   1.917058\n",
            "future_career_concerns         2.649091  1.529375   2.338989\n",
            "social_support                 1.881818  1.047826   1.097940\n",
            "peer_pressure                  2.734545  1.425265   2.031381\n",
            "extracurricular_activities     2.767273  1.417562   2.009483\n",
            "bullying                       2.617273  1.530958   2.343832\n",
            "stress_level                   0.996364  0.821673   0.675146\n"
          ]
        }
      ],
      "source": [
        "# Calculate statistical summaries (mean, variance, etc.)\n",
        "stat_summary = df.describe().T  # Transpose the summary for better readability\n",
        "stat_summary['variance'] = df.var() # Calculate variance for each column and add it to the statistical summary\n",
        "print(stat_summary[['mean', 'std', 'variance']]) # Display the statistical summary including mean, standard deviation, and variance"
      ]
    },
    {
      "cell_type": "code",
      "execution_count": 83,
      "metadata": {},
      "outputs": [
        {
          "name": "stdout",
          "output_type": "stream",
          "text": [
            "Number of duplicate rows: 0\n"
          ]
        }
      ],
      "source": [
        "# Handling Duplicates\n",
        "num_duplicates = df.duplicated().sum()\n",
        "print(\"Number of duplicate rows:\", num_duplicates)\n",
        "\n",
        "# Remove duplicates and save the cleaned dataset\n",
        "data = df.drop_duplicates()\n",
        "\n",
        "# Save after handling duplicates\n",
        "data.to_csv('Cleaned_Dataset.csv', index=False)"
      ]
    },
    {
      "cell_type": "code",
      "execution_count": 84,
      "metadata": {},
      "outputs": [
        {
          "name": "stdout",
          "output_type": "stream",
          "text": [
            "Outlier Counts:\n",
            "anxiety_level: 0 rows with outliers\n",
            "self_esteem: 0 rows with outliers\n",
            "mental_health_history: 0 rows with outliers\n",
            "depression: 0 rows with outliers\n",
            "headache: 0 rows with outliers\n",
            "blood_pressure: 0 rows with outliers\n",
            "sleep_quality: 0 rows with outliers\n",
            "breathing_problem: 0 rows with outliers\n",
            "noise_level: 173 rows with outliers\n",
            "living_conditions: 62 rows with outliers\n",
            "safety: 0 rows with outliers\n",
            "basic_needs: 0 rows with outliers\n",
            "academic_performance: 0 rows with outliers\n",
            "study_load: 165 rows with outliers\n",
            "teacher_student_relationship: 0 rows with outliers\n",
            "future_career_concerns: 0 rows with outliers\n",
            "social_support: 0 rows with outliers\n",
            "peer_pressure: 0 rows with outliers\n",
            "extracurricular_activities: 0 rows with outliers\n",
            "bullying: 0 rows with outliers\n",
            "stress_level: 0 rows with outliers\n",
            "Total Rows with Outliers: 400\n"
          ]
        }
      ],
      "source": [
        "data1 = pd.read_csv('Cleaned_Dataset.csv')\n",
        "import numpy as np\n",
        "\n",
        "# Outlier handling using IQR method\n",
        "outlier_threshold = 1.5\n",
        "\n",
        "def count_outliers(column_data):\n",
        "    q1 = np.percentile(column_data, 25)\n",
        "    q3 = np.percentile(column_data, 75)\n",
        "    iqr = q3 - q1\n",
        "    upper_bound = q3 + outlier_threshold * iqr\n",
        "    lower_bound = q1 - outlier_threshold * iqr\n",
        "    outliers = (column_data > upper_bound) | (column_data < lower_bound)\n",
        "    return sum(outliers)\n",
        "\n",
        "# Select numeric columns\n",
        "numeric_columns = data.select_dtypes(include=[np.number]).columns\n",
        "\n",
        "# Detect outliers in each numeric column\n",
        "outlier_counts = {}\n",
        "total_rows_with_outliers = 0\n",
        "\n",
        "for column in numeric_columns:\n",
        "    outliers = count_outliers(data[column])\n",
        "    outlier_counts[column] = outliers\n",
        "    total_rows_with_outliers += outliers\n",
        "\n",
        "# Print outlier summary\n",
        "print(\"Outlier Counts:\")\n",
        "for column, count in outlier_counts.items():\n",
        "    print(f\"{column}: {count} rows with outliers\")\n",
        "\n",
        "print(f\"Total Rows with Outliers: {total_rows_with_outliers}\")"
      ]
    },
    {
      "cell_type": "code",
      "execution_count": 85,
      "metadata": {},
      "outputs": [
        {
          "name": "stdout",
          "output_type": "stream",
          "text": [
            "   anxiety_level  self_esteem  mental_health_history  depression  headache  \\\n",
            "0           0.14         0.20                      0        0.11         2   \n",
            "1           0.15         0.08                      1        0.15         5   \n",
            "2           0.12         0.18                      1        0.14         2   \n",
            "3           0.16         0.12                      1        0.15         4   \n",
            "4           0.16         0.28                      0        0.07         2   \n",
            "\n",
            "   blood_pressure  sleep_quality  breathing_problem  noise_level  \\\n",
            "0             0.1            0.2                0.4          0.2   \n",
            "1             0.3            0.1                0.4          0.3   \n",
            "2             0.1            0.2                0.2          0.2   \n",
            "3             0.3            0.1                0.3          0.4   \n",
            "4             0.3            0.5                0.1          0.3   \n",
            "\n",
            "   living_conditions  ...  basic_needs  academic_performance  study_load  \\\n",
            "0                0.3  ...            2                     3         0.2   \n",
            "1                0.1  ...            2                     1         0.4   \n",
            "2                0.2  ...            2                     2         0.3   \n",
            "3                0.2  ...            2                     2         0.4   \n",
            "4                0.2  ...            3                     4         0.3   \n",
            "\n",
            "   teacher_student_relationship  future_career_concerns  social_support  \\\n",
            "0                             3                     0.3             0.2   \n",
            "1                             1                     0.5             0.1   \n",
            "2                             3                     0.2             0.2   \n",
            "3                             1                     0.4             0.1   \n",
            "4                             1                     0.2             0.1   \n",
            "\n",
            "   peer_pressure  extracurricular_activities  bullying  stress_level  \n",
            "0            0.3                         0.3       0.2           0.1  \n",
            "1            0.4                         0.5       0.5           0.2  \n",
            "2            0.3                         0.2       0.2           0.1  \n",
            "3            0.4                         0.4       0.5           0.2  \n",
            "4            0.5                         0.0       0.5           0.1  \n",
            "\n",
            "[5 rows x 21 columns]\n"
          ]
        }
      ],
      "source": [
        "data1 = pd.read_csv('Cleaned_Dataset.csv')\n",
        "data1 = pd.DataFrame(data1)\n",
        "# Columns to normalize\n",
        "columns_to_normalize = [\n",
        "    'anxiety_level', 'self_esteem', 'depression', 'blood_pressure', \n",
        "    'sleep_quality', 'breathing_problem', 'noise_level', 'living_conditions', \n",
        "    'study_load', 'future_career_concerns', 'social_support', 'peer_pressure', \n",
        "    'extracurricular_activities', 'bullying', 'stress_level'\n",
        "]\n",
        "\n",
        "# Apply Decimal scaling normalization\n",
        "for column in columns_to_normalize:\n",
        "    max_abs_value = data1[column].abs().max()\n",
        "    data1[column] = data1[column] / (10 ** len(str(int(max_abs_value))))\n",
        "\n",
        "# Output the normalized data\n",
        "print(data1.head())\n",
        "\n",
        "# Save the normalized dataset\n",
        "data1.to_csv('Cleaned_Dataset.csv', index=False)"
      ]
    },
    {
      "cell_type": "code",
      "execution_count": 86,
      "metadata": {},
      "outputs": [
        {
          "name": "stdout",
          "output_type": "stream",
          "text": [
            "Aggregated data:\n",
            "              anxiety_level  depression  self_esteem  bullying\n",
            "stress_level                                                  \n",
            "0.0                0.054316    0.060134     0.252520      46.8\n",
            "0.1                0.114302    0.118743     0.192626      91.5\n",
            "0.2                0.164011    0.198293     0.087805     149.6\n"
          ]
        }
      ],
      "source": [
        "data1 = pd.read_csv('Cleaned_Dataset.csv')\n",
        "# Step 5: Aggregation based on stress_level\n",
        "aggregated_df = data1.groupby('stress_level').agg({\n",
        "    'anxiety_level': 'mean',  \n",
        "    'depression': 'mean',    \n",
        "    'self_esteem': 'mean',    \n",
        "    'bullying': 'sum'  # Example of sum for categorical variables\n",
        "})\n",
        "\n",
        "\n",
        "\n",
        "# Output aggregated data\n",
        "print(\"Aggregated data:\")\n",
        "print(aggregated_df)"
      ]
    },
    {
      "cell_type": "code",
      "execution_count": 87,
      "metadata": {},
      "outputs": [
        {
          "name": "stdout",
          "output_type": "stream",
          "text": [
            "Data after discretization:\n",
            "   anxiety_level anxiety_level_binned\n",
            "0           0.14                 High\n",
            "1           0.15                 High\n",
            "2           0.12               Medium\n",
            "3           0.16                 High\n",
            "4           0.16                 High\n"
          ]
        }
      ],
      "source": [
        "# Load the dataset\n",
        "data1 = pd.read_csv('Cleaned_Dataset.csv')\n",
        "\n",
        "\n",
        "# Discretization of anxiety_level into categories\n",
        "data1['anxiety_level_binned'] = pd.cut(data1['anxiety_level'], bins=3, labels=['Low', 'Medium', 'High'])\n",
        "\n",
        "# Save the discretized dataset\n",
        "data1.to_csv('Cleaned_Dataset.csv', index=False)\n",
        "\n",
        "# Display the first few rows\n",
        "print(\"Data after discretization:\")\n",
        "print(data1[['anxiety_level', 'anxiety_level_binned']].head())"
      ]
    },
    {
      "cell_type": "markdown",
      "metadata": {},
      "source": [
        "# Feature Selection\n",
        "The number of available features is 20, and the feature selection includes blood pressure, sleep quality, future career concerns, bullying, and stress level.\n",
        " "
      ]
    },
    {
      "cell_type": "code",
      "execution_count": 88,
      "metadata": {},
      "outputs": [
        {
          "name": "stdout",
          "output_type": "stream",
          "text": [
            "Number of features available: 20\n",
            "Selected Features: Index(['blood_pressure', 'sleep_quality', 'future_career_concerns', 'bullying',\n",
            "       'stress_level'],\n",
            "      dtype='object')\n"
          ]
        }
      ],
      "source": [
        "from sklearn.feature_selection import SelectKBest, f_classif\n",
        "import pandas as pd\n",
        "\n",
        "# Load the dataset\n",
        "df = pd.read_csv('Cleaned_StressLevelDataset.csv')\n",
        "\n",
        "# Separate features from the target variable\n",
        "X = df.drop(columns=['anxiety_level', 'anxiety_level_binned'])  # Exclude non-numeric columns\n",
        "y = df['anxiety_level']\n",
        "\n",
        "# Select only numeric columns for feature selection\n",
        "X_numeric = X.select_dtypes(include=[float, int])\n",
        "\n",
        "# Check the number of features\n",
        "n_features = X_numeric.shape[1]\n",
        "print('Number of features available:', n_features)\n",
        "\n",
        "# Specify the number of features to choose\n",
        "num_features_to_select = min(5, n_features)  # Choose the least between 5 and the actual number of features\n",
        "selector = SelectKBest(score_func=f_classif, k=num_features_to_select)\n",
        "\n",
        "# Apply feature selection\n",
        "X_selected = selector.fit_transform(X_numeric, y)\n",
        "\n",
        "# Get selected feature indicators\n",
        "selected_indices = selector.get_support(indices=True)\n",
        "\n",
        "# Get selected feature names\n",
        "selected_features = X_numeric.columns[selected_indices]\n",
        "\n",
        "print('Selected Features:', selected_features)"
      ]
    },
    {
      "cell_type": "code",
      "execution_count": 89,
      "metadata": {},
      "outputs": [
        {
          "name": "stdout",
          "output_type": "stream",
          "text": [
            "Data after discretization:\n",
            "   anxiety_level anxiety_level_binned\n",
            "0           0.14                 High\n",
            "1           0.15                 High\n",
            "2           0.12               Medium\n",
            "3           0.16                 High\n",
            "4           0.16                 High\n"
          ]
        }
      ],
      "source": [
        "df['anxiety_level_binned'] = pd.cut(df['anxiety_level'], bins=3, labels=['Low', 'Medium', 'High'])\n",
        "print(\"Data after discretization:\")\n",
        "print(df[['anxiety_level', 'anxiety_level_binned']].head())"
      ]
    },
    {
      "cell_type": "code",
      "execution_count": 90,
      "metadata": {},
      "outputs": [],
      "source": [
        "#correlation_matrix = df.corr()\n",
        "##correlation_with_target = correlation_matrix['stress_level'].sort_values(ascending=False)\n",
        "#print(\"Correlation coefficients with stress_level:\")\n",
        "##print(correlation_with_target)\n",
        "#from sklearn.feature_selection import SelectKBest, f_classif"
      ]
    }
  ],
  "metadata": {
    "kernelspec": {
      "display_name": "Python 3 (ipykernel)",
      "language": "python",
      "name": "python3"
    },
    "language_info": {
      "codemirror_mode": {
        "name": "ipython",
        "version": 3
      },
      "file_extension": ".py",
      "mimetype": "text/x-python",
      "name": "python",
      "nbconvert_exporter": "python",
      "pygments_lexer": "ipython3",
      "version": "3.12.1"
    }
  },
  "nbformat": 4,
  "nbformat_minor": 4
}
