{
  "cells": [
    {
      "cell_type": "markdown",
      "metadata": {
        "trusted": true
      },
      "source": [
        "## The goal of collecting this dataset:\n",
        "The goal of collecting the Student Stress Factors dataset is to conduct a comprehensive analysis of the factors contributing to student stress, with a focus on classifying students into different stress levels and clustering them based on common stress-related characteristics. By examining variables such as academic workload, personal life, social pressures, and mental health, this dataset aims to identify patterns and relationships that can classify students’ stress levels. Additionally, clustering techniques will be used to group students with similar stress profiles, which can provide insights for developing targeted strategies to reduce stress, improve well-being, and enhance academic performance."
      ]
    },
    {
      "cell_type": "markdown",
      "metadata": {},
      "source": [
        "## The source of the dataset:\n",
        "https://www.kaggle.com/datasets/rxnach/student-stress-factors-a-comprehensive-analysis"
      ]
    },
    {
      "cell_type": "code",
      "execution_count": 17,
      "metadata": {},
      "outputs": [],
      "source": [
        "import pandas as pd\n",
        "df = pd.read_csv('Dataset/StressLevelDataset(in).csv' )"
      ]
    },
    {
      "cell_type": "markdown",
      "metadata": {},
      "source": [
        "## General information about the dataset:\n",
        "Number of attributes: 21\n",
        "\n",
        "Number of objects: 1100\n",
        "\n",
        "Attribute types: All columns are integer types (int64)\n",
        "\n",
        "Class label: stress_level"
      ]
    },
    {
      "cell_type": "code",
      "execution_count": 18,
      "metadata": {},
      "outputs": [
        {
          "name": "stdout",
          "output_type": "stream",
          "text": [
            "Number of attributes: 21\n",
            "\n",
            "\n",
            "Attributes and their types:\n",
            "                  Attribute Name Data Type\n",
            "0                  anxiety_level     int64\n",
            "1                    self_esteem     int64\n",
            "2          mental_health_history     int64\n",
            "3                     depression     int64\n",
            "4                       headache     int64\n",
            "5                 blood_pressure     int64\n",
            "6                  sleep_quality     int64\n",
            "7              breathing_problem     int64\n",
            "8                    noise_level   float64\n",
            "9              living_conditions   float64\n",
            "10                        safety     int64\n",
            "11                   basic_needs     int64\n",
            "12          academic_performance     int64\n",
            "13                    study_load   float64\n",
            "14  teacher_student_relationship     int64\n",
            "15        future_career_concerns     int64\n",
            "16                social_support     int64\n",
            "17                 peer_pressure     int64\n",
            "18    extracurricular_activities     int64\n",
            "19                      bullying     int64\n",
            "20                  stress_level     int64\n",
            "\n",
            "\n",
            "Number of objects: 1100\n"
          ]
        }
      ],
      "source": [
        "num_objects = len(df)\n",
        "attributes_info = pd.DataFrame({\n",
        "    'Attribute Name': df.columns,\n",
        "    'Data Type': df.dtypes.values\n",
        "})\n",
        "print(f\"Number of attributes: {len(df.columns)}\")\n",
        "print(\"\\n\")\n",
        "print(\"Attributes and their types:\")\n",
        "print(attributes_info)\n",
        "print(\"\\n\")\n",
        "print(f\"Number of objects: {num_objects}\")"
      ]
    },
    {
      "cell_type": "markdown",
      "metadata": {},
      "source": [
        "#### Check the Current Distribution of the Class Label:"
      ]
    },
    {
      "cell_type": "code",
      "execution_count": 19,
      "metadata": {},
      "outputs": [
        {
          "name": "stdout",
          "output_type": "stream",
          "text": [
            "Class label distribution in the full dataset:\n",
            "stress_level\n",
            "0    33.909091\n",
            "2    33.545455\n",
            "1    32.545455\n",
            "Name: proportion, dtype: float64\n"
          ]
        }
      ],
      "source": [
        "# Check the current distribution of the class label (e.g., 'stress_level')\n",
        "class_distribution = df['stress_level'].value_counts(normalize=True) * 100\n",
        "print(\"Class label distribution in the full dataset:\")\n",
        "print(class_distribution)"
      ]
    },
    {
      "cell_type": "markdown",
      "metadata": {},
      "source": [
        "### Graphs:"
      ]
    },
    {
      "cell_type": "markdown",
      "metadata": {},
      "source": [
        "#### Bar chart"
      ]
    },
    {
      "cell_type": "code",
      "execution_count": 36,
      "metadata": {},
      "outputs": [
        {
          "name": "stdout",
          "output_type": "stream",
          "text": [
            "stress_level\n",
            "0    33.909091\n",
            "2    33.545455\n",
            "1    32.545455\n",
            "Name: proportion, dtype: float64\n"
          ]
        },
        {
          "data": {
            "image/png": "[encoded data removed]",
            "text/plain": [
              "<Figure size 600x400 with 1 Axes>"
            ]
          },
          "metadata": {},
          "output_type": "display_data"
        }
      ],
      "source": [
        "import seaborn as sns\n",
        "\n",
        "# Display the class distribution (counts of each class label)\n",
        "print(class_distribution)\n",
        "plt.figure(figsize=(6, 4)) # Set up the figure size for the plot\n",
        "sns.countplot(x='stress_level', data=df) # Use Seaborn's countplot to plot the distribution of the 'stress_level' column\n",
        "plt.title('Stress level distribution') # Set the title of the plot\n",
        "plt.show() # Display the plot\n"
      ]
    },
    {
      "cell_type": "markdown",
      "metadata": {},
      "source": [
        "This bar chart shows that the dataset contains equal amounts of data for each stress level, which helps avoid issues related to class imbalance that can skew analysis or model predictions. In this dataset, stress levels are represented numerically, with 0 indicating low stress, 1 representing medium stress, and 2 indicating high stress. Balanced data like this ensures that predictive models won't favor one category over another, resulting in more reliable and fair predictions across all stress levels. Without this balance, a model might incorrectly favor more common categories, such as \"low stress,\" leading to biased outcomes."
      ]
    },
    {
      "cell_type": "markdown",
      "metadata": {},
      "source": [
        "#### Pie chart:"
      ]
    },
    {
      "cell_type": "code",
      "execution_count": 35,
      "metadata": {},
      "outputs": [
        {
          "data": {
            "image/png": "[encoded data removed]",
            "text/plain": [
              "<Figure size 600x600 with 1 Axes>"
            ]
          },
          "metadata": {},
          "output_type": "display_data"
        }
      ],
      "source": [
        "data2 = df['social_support'].value_counts(normalize=True) * 100 # Calculate the percentage distribution of the 'social_support' column\n",
        "data2.plot.pie(autopct='%1.1f%%', figsize=(6, 6), startangle=90) # Plot the percentage distribution as a pie chart\n",
        "plt.title('Percentage Distribution of Social Support') # Set the title of the pie chart\n",
        "plt.ylabel('') # Remove the y-axis label for a cleaner pie chart presentation\n",
        "plt.show() # Display the pie chart"
      ]
    },
    {
      "cell_type": "markdown",
      "metadata": {},
      "source": [
        "The pie chart reveals that the majority of people (over 70%) have either low or high levels of social support, with the largest percentage (41.6%) feeling well-supported. However, around 8% of the population experiences no support, which could be an area of concern. Understanding these different levels of support helps in targeting social or health interventions to the right groups."
      ]
    },
    {
      "cell_type": "markdown",
      "metadata": {},
      "source": [
        "#### Box plot:"
      ]
    },
    {
      "cell_type": "code",
      "execution_count": 34,
      "metadata": {},
      "outputs": [
        {
          "data": {
            "image/png": "[encoded data removed]",
            "text/plain": [
              "<Figure size 640x480 with 1 Axes>"
            ]
          },
          "metadata": {},
          "output_type": "display_data"
        }
      ],
      "source": [
        "sns.boxplot(data=df['bullying']) # Create a box plot to show the distribution of the 'bullying' column\n",
        "plt.title('Bullying Distribution')\n",
        "plt.show() # Display the plot\n"
      ]
    },
    {
      "cell_type": "markdown",
      "metadata": {},
      "source": [
        "### Missing values:"
      ]
    },
    {
      "cell_type": "code",
      "execution_count": 38,
      "metadata": {},
      "outputs": [
        {
          "name": "stdout",
          "output_type": "stream",
          "text": [
            "Missing values per column:\n",
            "anxiety_level                   0\n",
            "self_esteem                     0\n",
            "mental_health_history           0\n",
            "depression                      0\n",
            "headache                        0\n",
            "blood_pressure                  0\n",
            "sleep_quality                   0\n",
            "breathing_problem               0\n",
            "noise_level                     0\n",
            "living_conditions               0\n",
            "safety                          0\n",
            "basic_needs                     0\n",
            "academic_performance            0\n",
            "study_load                      0\n",
            "teacher_student_relationship    0\n",
            "future_career_concerns          0\n",
            "social_support                  0\n",
            "peer_pressure                   0\n",
            "extracurricular_activities      0\n",
            "bullying                        0\n",
            "stress_level                    0\n",
            "dtype: int64\n"
          ]
        }
      ],
      "source": [
        "# Check for missing values\n",
        "missing_values = df.isnull().sum() # This creates a Series containing the count of missing values per column\n",
        "print(\"Missing values per column:\") # Print a message indicating that missing values will be displayed\n",
        "print(missing_values) # Print missing values per column"
      ]
    },
    {
      "cell_type": "markdown",
      "metadata": {},
      "source": [
        "### Statistical summaries:"
      ]
    },
    {
      "cell_type": "code",
      "execution_count": 71,
      "metadata": {},
      "outputs": [
        {
          "name": "stdout",
          "output_type": "stream",
          "text": [
            "                                   mean       std   variance\n",
            "anxiety_level                 11.063636  6.117558  37.424518\n",
            "self_esteem                   17.777273  8.944599  80.005852\n",
            "mental_health_history          0.492727  0.500175   0.250175\n",
            "depression                    12.555455  7.727008  59.706658\n",
            "headache                       2.508182  1.409356   1.986284\n",
            "blood_pressure                 2.181818  0.833575   0.694847\n",
            "sleep_quality                  2.660000  1.548383   2.397489\n",
            "breathing_problem              2.753636  1.400713   1.961998\n",
            "noise_level                    2.603182  1.192194   1.421327\n",
            "living_conditions              2.516364  1.061016   1.125756\n",
            "safety                         2.737273  1.406171   1.977317\n",
            "basic_needs                    2.772727  1.433761   2.055670\n",
            "academic_performance           2.772727  1.414594   2.001075\n",
            "study_load                     2.580455  1.183996   1.401847\n",
            "teacher_student_relationship   2.648182  1.384579   1.917058\n",
            "future_career_concerns         2.649091  1.529375   2.338989\n",
            "social_support                 1.881818  1.047826   1.097940\n",
            "peer_pressure                  2.734545  1.425265   2.031381\n",
            "extracurricular_activities     2.767273  1.417562   2.009483\n",
            "bullying                       2.617273  1.530958   2.343832\n",
            "stress_level                   0.996364  0.821673   0.675146\n"
          ]
        }
      ],
      "source": [
        "# Calculate statistical summaries (mean, variance, etc.)\n",
        "stat_summary = df.describe().T  # Transpose the summary for better readability\n",
        "stat_summary['variance'] = df.var() # Calculate variance for each column and add it to the statistical summary\n",
        "print(stat_summary[['mean', 'std', 'variance']]) # Display the statistical summary including mean, standard deviation, and variance"
      ]
    },
    {
      "cell_type": "markdown",
      "metadata": {},
      "source": [
        "# Handling Duplicates\n",
        "\n",
        "Duplicate rows in a dataset can introduce redundancy, skewing the analysis and leading to inaccurate results. In this step, we checked for and removed any duplicate rows using the duplicated() function. This ensures that each data point is unique, preserving the quality and integrity of the dataset."
      ]
    },
    {
      "cell_type": "code",
      "execution_count": 72,
      "metadata": {},
      "outputs": [
        {
          "name": "stdout",
          "output_type": "stream",
          "text": [
            "Number of duplicate rows: 0\n"
          ]
        }
      ],
      "source": [
        "# Step 1: Handling Duplicates\n",
        "# Check for duplicate rows and remove them\n",
        "num_duplicates = df.duplicated().sum()\n",
        "print(\"Number of duplicate rows:\", num_duplicates)\n",
        "\n",
        "# Save the cleaned dataset after removing duplicates (if any)\n",
        "df.to_csv('Cleaned_StressLevelDataset.csv', index=False)\n"
      ]
    },
    {
      "cell_type": "markdown",
      "metadata": {},
      "source": [
        " Result:\n",
        "\n",
        "Upon checking the dataset, the result showed 0 duplicate rows, meaning that no redundant data points were found. The dataset is clean, and no further action regarding duplicates was necessary"
      ]
    },
    {
      "cell_type": "markdown",
      "metadata": {},
      "source": []
    },
    {
      "cell_type": "markdown",
      "metadata": {},
      "source": [
        "# Handling Outliers:\n",
        "\n",
        "Outliers are extreme values that can impact the accuracy of data analysis. To address this, we used the Interquartile Range (IQR) method, which identifies outliers by looking for values significantly above or below the normal range in numeric columns. Instead of removing these outliers, we cap their values to minimize their influence while preserving the overall dataset structure."
      ]
    },
    {
      "cell_type": "code",
      "execution_count": 73,
      "metadata": {},
      "outputs": [
        {
          "name": "stdout",
          "output_type": "stream",
          "text": [
            "Outlier Counts:\n",
            "anxiety_level: 0 rows with outliers\n",
            "self_esteem: 0 rows with outliers\n",
            "mental_health_history: 0 rows with outliers\n",
            "depression: 0 rows with outliers\n",
            "headache: 0 rows with outliers\n",
            "blood_pressure: 0 rows with outliers\n",
            "sleep_quality: 0 rows with outliers\n",
            "breathing_problem: 0 rows with outliers\n",
            "noise_level: 0 rows with outliers\n",
            "living_conditions: 0 rows with outliers\n",
            "safety: 0 rows with outliers\n",
            "basic_needs: 0 rows with outliers\n",
            "academic_performance: 0 rows with outliers\n",
            "study_load: 0 rows with outliers\n",
            "teacher_student_relationship: 0 rows with outliers\n",
            "future_career_concerns: 0 rows with outliers\n",
            "social_support: 0 rows with outliers\n",
            "peer_pressure: 0 rows with outliers\n",
            "extracurricular_activities: 0 rows with outliers\n",
            "bullying: 0 rows with outliers\n",
            "stress_level: 0 rows with outliers\n",
            "Total Rows with Outliers: 0\n"
          ]
        }
      ],
      "source": [
        "# Step 2: Handling Outliers using the IQR method\n",
        "# The IQR (Interquartile Range) method is used to detect and cap outliers\n",
        "outlier_threshold = 1.5  # IQR multiplier for defining outlier boundaries\n",
        "\n",
        "# Function to count outliers in a given column\n",
        "def count_outliers(column_data):\n",
        "    q1 = np.percentile(column_data, 25)  # 25th percentile\n",
        "    q3 = np.percentile(column_data, 75)  # 75th percentile\n",
        "    iqr = q3 - q1  # Interquartile range\n",
        "    upper_bound = q3 + outlier_threshold * iqr  # Upper bound for outliers\n",
        "    lower_bound = q1 - outlier_threshold * iqr  # Lower bound for outliers\n",
        "    outliers = (column_data > upper_bound) | (column_data < lower_bound)  # Outlier condition\n",
        "    return sum(outliers)\n",
        "\n",
        "# Select only numeric columns for outlier detection\n",
        "numeric_columns = df.select_dtypes(include=[np.number]).columns\n",
        "\n",
        "# Initialize a dictionary to store outlier counts\n",
        "outlier_counts = {}\n",
        "total_rows_with_outliers = 0\n",
        "\n",
        "# Loop through each numeric column to calculate outliers\n",
        "for column in numeric_columns:\n",
        "    outliers = count_outliers(df[column])\n",
        "    outlier_counts[column] = outliers\n",
        "    total_rows_with_outliers += outliers\n",
        "\n",
        "# Print out the results for each column\n",
        "print(\"Outlier Counts:\")\n",
        "for column, count in outlier_counts.items():\n",
        "    print(f\"{column}: {count} rows with outliers\")\n",
        "\n",
        "print(f\"Total Rows with Outliers: {total_rows_with_outliers}\")\n"
      ]
    },
    {
      "cell_type": "markdown",
      "metadata": {},
      "source": [
        "Result:\n",
        "\n",
        "After applying the IQR method, no outliers were detected in any of the columns, as shown by the result where each column has 0 rows with outliers. This means that the dataset is clean, and no extreme values exist that could distort further analysis or modeling."
      ]
    },
    {
      "cell_type": "markdown",
      "metadata": {},
      "source": [
        "# Data Transformation"
      ]
    },
    {
      "cell_type": "markdown",
      "metadata": {},
      "source": [
        "In the transformation process, Normalization was applied because the data consisted of numerical values that needed to be scaled to a specific range (typically 0 to 1). This ensures that features with different scales do not disproportionately influence machine learning models. Normalization is crucial for algorithms sensitive to the magnitude of data, such as KNN or neural networks.\n",
        "\n",
        "Encoding was not used because it is only necessary for categorical or textual data. Since the dataset contained numerical data, there was no need for encoding."
      ]
    },
    {
      "cell_type": "code",
      "execution_count": 74,
      "metadata": {},
      "outputs": [
        {
          "name": "stdout",
          "output_type": "stream",
          "text": [
            "Data after normalization:\n",
            "   anxiety_level  self_esteem  mental_health_history  depression  headache  \\\n",
            "0       0.666667     0.666667                    0.0    0.407407       0.4   \n",
            "1       0.714286     0.266667                    1.0    0.555556       1.0   \n",
            "2       0.571429     0.600000                    1.0    0.518519       0.4   \n",
            "3       0.761905     0.400000                    1.0    0.555556       0.8   \n",
            "4       0.761905     0.933333                    0.0    0.259259       0.4   \n",
            "\n",
            "   blood_pressure  sleep_quality  breathing_problem  noise_level  \\\n",
            "0             0.0            0.4                0.8        0.375   \n",
            "1             1.0            0.2                0.8        0.625   \n",
            "2             0.0            0.4                0.4        0.375   \n",
            "3             1.0            0.2                0.6        0.875   \n",
            "4             1.0            1.0                0.2        0.625   \n",
            "\n",
            "   living_conditions  ...  basic_needs  academic_performance  study_load  \\\n",
            "0              0.625  ...          0.4                   0.6       0.375   \n",
            "1              0.125  ...          0.4                   0.2       0.875   \n",
            "2              0.375  ...          0.4                   0.4       0.625   \n",
            "3              0.375  ...          0.4                   0.4       0.875   \n",
            "4              0.375  ...          0.6                   0.8       0.625   \n",
            "\n",
            "   teacher_student_relationship  future_career_concerns  social_support  \\\n",
            "0                           0.6                     0.6        0.666667   \n",
            "1                           0.2                     1.0        0.333333   \n",
            "2                           0.6                     0.4        0.666667   \n",
            "3                           0.2                     0.8        0.333333   \n",
            "4                           0.2                     0.4        0.333333   \n",
            "\n",
            "   peer_pressure  extracurricular_activities  bullying  stress_level  \n",
            "0            0.6                         0.6       0.4           0.5  \n",
            "1            0.8                         1.0       1.0           1.0  \n",
            "2            0.6                         0.4       0.4           0.5  \n",
            "3            0.8                         0.8       1.0           1.0  \n",
            "4            1.0                         0.0       1.0           0.5  \n",
            "\n",
            "[5 rows x 21 columns]\n"
          ]
        }
      ],
      "source": [
        "from sklearn.preprocessing import MinMaxScaler\n",
        "\n",
        "# Step 4: Normalization using MinMaxScaler\n",
        "scaler = MinMaxScaler()\n",
        "normalized_df = pd.DataFrame(scaler.fit_transform(df), columns=df.columns)\n",
        "\n",
        "# Save the normalized dataset\n",
        "normalized_df.to_csv('normalized_StressLevelDataset.csv', index=False)\n",
        "\n",
        "# Output a sample of normalized data\n",
        "print(\"Data after normalization:\")\n",
        "print(normalized_df.head())\n"
      ]
    },
    {
      "cell_type": "markdown",
      "metadata": {},
      "source": [
        "Result:\n",
        "\n",
        "As seen in the table, the values for variables such as anxiety_level, self_esteem, blood_pressure, and others have been normalized. For example, blood_pressure now ranges between 0 and 1, ensuring consistent scaling across all features. This allows for more balanced analysis and model training without certain features dominating due to larger magnitudes."
      ]
    },
    {
      "cell_type": "markdown",
      "metadata": {},
      "source": [
        "# Aggregation\n",
        "\n",
        "Aggregation is a technique used to summarize data by grouping it based on specific categories. In this step, we grouped the dataset by stress_level and calculated the mean for numeric columns like anxiety_level, depression, and self_esteem. For categorical variables like bullying, we summed the values to provide insight into the total occurrences within each stress level group.\n"
      ]
    },
    {
      "cell_type": "code",
      "execution_count": 75,
      "metadata": {},
      "outputs": [
        {
          "name": "stdout",
          "output_type": "stream",
          "text": [
            "Aggregated data:\n",
            "              anxiety_level  depression  self_esteem  bullying\n",
            "stress_level                                                  \n",
            "0                  5.431635    6.013405    25.252011       468\n",
            "1                 11.430168   11.874302    19.262570       915\n",
            "2                 16.401084   19.829268     8.780488      1496\n"
          ]
        }
      ],
      "source": [
        "# Step 5: Aggregation based on stress_level\n",
        "aggregated_df = df.groupby('stress_level').agg({\n",
        "    'anxiety_level': 'mean',  \n",
        "    'depression': 'mean',    \n",
        "    'self_esteem': 'mean',    \n",
        "    'bullying': 'sum'  # Example of sum for categorical variables\n",
        "})\n",
        "\n",
        "# Save the aggregated dataset\n",
        "aggregated_df.to_csv('aggregated_StressLevelDataset.csv', index=True)\n",
        "\n",
        "# Output aggregated data\n",
        "print(\"Aggregated data:\")\n",
        "print(aggregated_df)\n"
      ]
    },
    {
      "cell_type": "markdown",
      "metadata": {},
      "source": [
        "Result:\n",
        "\n",
        "The aggregated data shows the mean values of anxiety_level, depression, and self_esteem for each stress_level group, as well as the total number of bullying incidents. For instance, individuals with a stress_level of 2 have a higher mean anxiety_level (16.40) and depression (19.83) compared to those with a stress_level of 0. This helps identify patterns and correlations between stress levels and various psychological and behavioral metric"
      ]
    },
    {
      "cell_type": "markdown",
      "metadata": {},
      "source": [
        "# Discretization\n",
        "\n",
        "Discretization is a process where continuous data is divided into discrete categories or bins. In this step, we transformed the anxiety_level variable into three categories: Low, Medium, and High. This simplifies the data and makes it easier to analyze trends across different levels of anxiety."
      ]
    },
    {
      "cell_type": "code",
      "execution_count": 76,
      "metadata": {},
      "outputs": [
        {
          "name": "stdout",
          "output_type": "stream",
          "text": [
            "Data after discretization:\n",
            "   anxiety_level anxiety_level_binned\n",
            "0             14               Medium\n",
            "1             15                 High\n",
            "2             12               Medium\n",
            "3             16                 High\n",
            "4             16                 High\n"
          ]
        }
      ],
      "source": [
        "\n",
        "df['anxiety_level_binned'] = pd.cut(df['anxiety_level'], bins=3, labels=['Low', 'Medium', 'High'])\n",
        "\n",
        "\n",
        "df.to_csv('discretized_StressLevelDataset.csv', index=False)\n",
        "\n",
        "\n",
        "print(\"Data after discretization:\")\n",
        "print(df[['anxiety_level', 'anxiety_level_binned']].head())\n"
      ]
    },
    {
      "cell_type": "markdown",
      "metadata": {},
      "source": [
        "Result:\n",
        "\n",
        "The anxiety_level column has been discretized into the bins Low, Medium, and High. For example, a anxiety_level of 14 is classified as Medium, while a value of 16 is classified as High. This categorization helps in interpreting the data more intuitively and allows for easier comparisons across different groups."
      ]
    },
    {
      "cell_type": "markdown",
      "metadata": {},
      "source": [
        "# Feature Selection\n",
        "The number of available features is 20, and the feature selection includes blood pressure, sleep quality, future career concerns, bullying, and stress level.\n",
        " "
      ]
    },
    {
      "cell_type": "code",
      "execution_count": 71,
      "metadata": {},
      "outputs": [
        {
          "name": "stdout",
          "output_type": "stream",
          "text": [
            "Selected Features: Index(['blood_pressure', 'sleep_quality', 'future_career_concerns', 'bullying',\n",
            "       'stress_level'],\n",
            "      dtype='object')\n"
          ]
        }
      ],
      "source": [
        "import pandas as pd\n",
        "import numpy as np\n",
        "from sklearn.feature_selection import SelectKBest, f_classif \n",
        "df = pd.read_csv('Cleaned_StressLevelDataset.csv')\n",
        "\n",
        "# Read dataset\n",
        "df = pd.read_csv('Cleaned_StressLevelDataset.csv')\n",
        "\n",
        "# Separate features from target variable\n",
        "X = df.drop(columns=['anxiety_level'])\n",
        "y = df['anxiety_level']\n",
        "\n",
        "# Check the number of features\n",
        "n_features = X.shape[1]\n",
        "print(' Number of features available :', n_features)\n",
        "\n",
        "# Specify the number of features to choose\n",
        "num_features_to_select = min(5, n_features)  # Choose the least between 5 and the actual number of features\n",
        "selector = SelectKBest(score_func=f_classif, k=num_features_to_select)\n",
        "X_selected = selector.fit_transform(X, y)\n",
        "\n",
        "# Get selected feature indicators\n",
        "selected_indices = selector.get_support(indices=True)\n",
        "\n",
        "# Get selected feature names\n",
        "selected_features = X.columns[selected_indices]\n",
        "\n",
        "print('Selected Features:', selected_features)\n",
        "\n"
      ]
    },
    {
      "cell_type": "code",
      "execution_count": 74,
      "metadata": {},
      "outputs": [
        {
          "name": "stdout",
          "output_type": "stream",
          "text": [
            "Correlation coefficients with stress_level:\n",
            "stress_level                    1.000000\n",
            "bullying                        0.751162\n",
            "future_career_concerns          0.742619\n",
            "anxiety_level                   0.736795\n",
            "depression                      0.734379\n",
            "headache                        0.713484\n",
            "extracurricular_activities      0.692977\n",
            "peer_pressure                   0.690684\n",
            "noise_level                     0.689143\n",
            "study_load                      0.657820\n",
            "mental_health_history           0.648644\n",
            "breathing_problem               0.573984\n",
            "blood_pressure                  0.394200\n",
            "living_conditions              -0.616766\n",
            "social_support                 -0.632497\n",
            "teacher_student_relationship   -0.680163\n",
            "basic_needs                    -0.708968\n",
            "safety                         -0.709602\n",
            "academic_performance           -0.720922\n",
            "sleep_quality                  -0.749068\n",
            "self_esteem                    -0.756195\n",
            "Name: stress_level, dtype: float64\n"
          ]
        }
      ],
      "source": [
        "data['anxiety_level_binned'] = pd.cut(data['anxiety_level'], bins=3, labels=['Low', 'Medium', 'High'])\n",
        "\n",
        "print(\"Data after discretization:\")\n",
        "print(data[['anxiety_level', 'anxiety_level_binned']].head())\n",
        "\n",
        "data.to_csv('cc.csv',index=False)"
      ]
    }
  ],
  "metadata": {
    "kernelspec": {
      "display_name": "Python 3",
      "language": "python",
      "name": "python3"
    },
    "language_info": {
      "codemirror_mode": {
        "name": "ipython",
        "version": 3
      },
      "file_extension": ".py",
      "mimetype": "text/x-python",
      "name": "python",
      "nbconvert_exporter": "python",
      "pygments_lexer": "ipython3",
      "version": "3.12.1"
    }
  },
  "nbformat": 4,
  "nbformat_minor": 4
}
